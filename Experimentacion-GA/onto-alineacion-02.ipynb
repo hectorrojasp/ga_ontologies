{
 "cells": [
  {
   "cell_type": "markdown",
   "metadata": {},
   "source": [
    "### Proyecto metaheurísticas\n",
    "## Metaheurísticas aplicadas a procesos de Ing. y GC organizacional\n",
    "\n",
    "### Versión 2 con factores en evaluación similitudes\n",
    "\n",
    "### Alumno: Héctor Rojas Pescio "
   ]
  },
  {
   "cell_type": "markdown",
   "metadata": {},
   "source": [
    "###### Librerías Auxiliares"
   ]
  },
  {
   "cell_type": "code",
   "execution_count": 34,
   "metadata": {},
   "outputs": [],
   "source": [
    "#Utilitarios\n",
    "import pandas as pd\n",
    "import numpy as np\n",
    "import math\n",
    "import random\n",
    "from random import randrange\n",
    "\n",
    "#Gráficos\n",
    "import matplotlib.pyplot as plt\n",
    "import seaborn as sns\n",
    "\n",
    "plt.style.use('seaborn-whitegrid') # Gráficos estilo seaborn\n",
    "plt.rcParams[\"figure.figsize\"] = (6, 4)\n",
    "plt.rcParams[\"figure.dpi\"] = 100\n",
    "\n",
    "#Sistema\n",
    "import sys\n",
    "import time\n",
    "import glob\n",
    "import gc\n",
    "\n",
    "#Alertas\n",
    "import warnings\n",
    "warnings.filterwarnings(\"ignore\")"
   ]
  },
  {
   "cell_type": "markdown",
   "metadata": {},
   "source": [
    "##### Librerías Ontologías"
   ]
  },
  {
   "cell_type": "code",
   "execution_count": 35,
   "metadata": {},
   "outputs": [],
   "source": [
    "#Ontologías OWL\n",
    "from owlready2 import *\n",
    "\n",
    "import ontospy\n",
    "\n",
    "#Ontologías Grafos\n",
    "from rdflib.graph import Graph"
   ]
  },
  {
   "cell_type": "markdown",
   "metadata": {},
   "source": [
    "##### Librerías PLN"
   ]
  },
  {
   "cell_type": "code",
   "execution_count": 36,
   "metadata": {},
   "outputs": [],
   "source": [
    "import nltk\n",
    "from nltk.corpus import stopwords\n",
    "from nltk.metrics import distance"
   ]
  },
  {
   "cell_type": "markdown",
   "metadata": {},
   "source": [
    "### Alineación de Ontologías\n",
    "#### Globales"
   ]
  },
  {
   "cell_type": "code",
   "execution_count": 37,
   "metadata": {},
   "outputs": [],
   "source": [
    "#Ontology similarity factor\n",
    "#------------------------------\n",
    "onto_sim_fact = .0\n",
    "\n",
    "#Smallest entities array\n",
    "gl_sm_lst_cl = []\n",
    "gl_sm_lst_in = []\n",
    "gl_sm_lst_dp = []\n",
    "gl_sm_lst_op = []\n",
    "\n",
    "#Largest entities array\n",
    "gl_lg_lst_cl = []\n",
    "gl_lg_lst_in = []\n",
    "gl_lg_lst_dp = []\n",
    "gl_lg_lst_op = []\n",
    "\n",
    "#Smallest ontology entities\n",
    "gl_sm_onto_en = []\n",
    "gl_lg_onto_en = []\n",
    "\n",
    "#Solution representation dimensions (number of entities by type)\n",
    "gl_sol_repr_dim = []"
   ]
  },
  {
   "cell_type": "markdown",
   "metadata": {},
   "source": [
    "#### Similitud Ontología"
   ]
  },
  {
   "cell_type": "code",
   "execution_count": 38,
   "metadata": {},
   "outputs": [],
   "source": [
    "def get_ontology_similarity(onto_sm, onto_lg, dbg=False):\n",
    "    sim_score = .0\n",
    "    cl_score = 1.0\n",
    "    in_score = 1.0\n",
    "    dp_score = 1.0\n",
    "    op_score = 1.0\n",
    "    \n",
    "    if type(onto_sm) == owlready2.namespace.Ontology and type(onto_lg) == owlready2.namespace.Ontology:\n",
    "    \n",
    "        #Namespace\n",
    "        onto_sm_ns = str(onto_sm.get_namespace)\n",
    "        onto_lg_ns = str(onto_lg.get_namespace)\n",
    "        ns_score = distance.jaro_winkler_similarity(onto_sm_ns, onto_lg_ns)        \n",
    "\n",
    "        #Structure\n",
    "        onto_sm_lst_cl = len(list(onto_sm.classes()))\n",
    "        onto_sm_lst_in = len(list(onto_sm.individuals()))\n",
    "        onto_sm_lst_dp = len(list(onto_sm.data_properties()))\n",
    "        onto_sm_lst_op = len(list(onto_sm.object_properties()))\n",
    "\n",
    "        onto_lg_lst_cl = len(list(onto_lg.classes()))\n",
    "        onto_lg_lst_in = len(list(onto_lg.individuals()))\n",
    "        onto_lg_lst_dp = len(list(onto_lg.data_properties()))\n",
    "        onto_lg_lst_op = len(list(onto_lg.object_properties()))\n",
    "\n",
    "        #Clases\n",
    "        min_cl = min([onto_sm_lst_cl, onto_lg_lst_cl])\n",
    "        max_cl = max([onto_sm_lst_cl, onto_lg_lst_cl])\n",
    "        if(max_cl > 0):\n",
    "            cl_score = min_cl / max_cl    \n",
    "\n",
    "        #Individuals\n",
    "        min_in = min([onto_sm_lst_in, onto_lg_lst_in])\n",
    "        max_in = max([onto_sm_lst_in, onto_lg_lst_in])\n",
    "        if(max_in > 0):\n",
    "            in_score = min_in / max_in\n",
    "\n",
    "        #DataProperties\n",
    "        min_dp = min([onto_sm_lst_dp, onto_lg_lst_dp])\n",
    "        max_dp = max([onto_sm_lst_dp, onto_lg_lst_dp])\n",
    "        if(max_dp > 0):\n",
    "            dp_score = min_dp / max_dp\n",
    "\n",
    "        #ObjectProperties\n",
    "        min_op = min([onto_sm_lst_op, onto_lg_lst_op])\n",
    "        max_op = max([onto_sm_lst_op, onto_lg_lst_op])    \n",
    "        if(max_op > 0):\n",
    "            op_score = min_op / max_op    \n",
    "\n",
    "        sim_score = (.27*ns_score + .23*cl_score + .2*in_score + .15*dp_score + .15*op_score)\n",
    "\n",
    "    if dbg == True:\n",
    "        print(\"----------------------------------------------------------\")\n",
    "        print(\"ONTOLOGY SIMILARITY\\n{}\\n{}\".format(onto_sm_ns, onto_lg_ns))\n",
    "        print(\"----------------------------------------------------------\")\n",
    "        print('ns_score: {}'.format(round(ns_score,2)))\n",
    "        print('cl_score: {}'.format(round(cl_score,2)))\n",
    "        print('in_score: {}'.format(round(in_score,2)))\n",
    "        print('dp_score: {}'.format(round(dp_score,2)))\n",
    "        print('op_score: {}'.format(round(op_score,2)))\n",
    "        print(\"----------------------------------------------------------\")\n",
    "    \n",
    "    return round(sim_score,5)"
   ]
  },
  {
   "cell_type": "markdown",
   "metadata": {},
   "source": [
    "#### Similitud Clases"
   ]
  },
  {
   "cell_type": "code",
   "execution_count": 39,
   "metadata": {},
   "outputs": [],
   "source": [
    "def class_similarity(cl_1, cl_2, dbg=False):\n",
    "    cl_score = .0\n",
    "    id_score = .0\n",
    "    cb_score = .0\n",
    "    mr_score = .0\n",
    "    pr_score = .0\n",
    "        \n",
    "    if type(cl_1) == owlready2.entity.ThingClass and type(cl_2) == owlready2.entity.ThingClass :\n",
    "        \n",
    "        #Id\n",
    "        id_score = round(distance.jaro_winkler_similarity(cl_1.name, cl_2.name),5)\n",
    "            \n",
    "        #SubclassOf\n",
    "        cb_score = .0\n",
    "        lst_sbc_scr = []\n",
    "        for sbcl1 in cl_1.is_a:\n",
    "             for sbcl2 in cl_2.is_a:               \n",
    "                lst_sbc_scr.append(distance.jaro_winkler_similarity(str(sbcl1), str(sbcl2)))                     \n",
    "        try:\n",
    "            cb_score = round(max(lst_sbc_scr), 5)\n",
    "        except:\n",
    "            print(\"An exception occurred\")\n",
    "        \n",
    "        #Method Resolution Order\n",
    "        mr_score = round(distance.jaro_winkler_similarity(owl_tag2str(cl_1.mro), owl_tag2str(cl_2.mro)),5)\n",
    "        \n",
    "        #Properties similarity (annotations, comments)        \n",
    "        lst_prop_cl1 = []\n",
    "        lst_prop_cl2 = []\n",
    "        \n",
    "        for prop in cl_1.get_properties(cl_1):\n",
    "            for value in prop[cl_1]:                \n",
    "                lst_prop_cl1.append([prop.python_name, value])\n",
    "                \n",
    "        for prop in cl_2.get_properties(cl_2):\n",
    "            for value in prop[cl_2]:\n",
    "                lst_prop_cl2.append([prop.python_name, value])\n",
    "\n",
    "        prop_size = max([len(lst_prop_cl1), len([lst_prop_cl2])])\n",
    "        if prop_size > 0:\n",
    "            for prop_cl1 in lst_prop_cl1:\n",
    "                lst_prop_scr = []\n",
    "                for prop_cl2 in lst_prop_cl2:\n",
    "                    if prop_cl1[0] == prop_cl2[0]: #Same labels\n",
    "                        lst_prop_scr.append(distance.jaro_similarity(prop_cl1[1], prop_cl2[1]))\n",
    "                if len(lst_prop_scr) > 0:\n",
    "                    pr_score = pr_score + max(lst_prop_scr)             \n",
    "            pr_score = round(pr_score/prop_size,5)\n",
    "                \n",
    "        #EquivalentTo\n",
    "\n",
    "        #Instances\n",
    "\n",
    "        #TargetForKey\n",
    "\n",
    "        #DisjointWith\n",
    "\n",
    "        #DisjointUnionOf\n",
    "        \n",
    "    if dbg == True:\n",
    "        print(\"----------------------------------------------------------\")\n",
    "        print(\"CLASS SIMILARITY ({}, {})\".format(cl_1.name, cl_2.name))\n",
    "        print(\"----------------------------------------------------------\")\n",
    "        print(\"id_score:{}\".format(id_score))\n",
    "        print(\"cb_score:{}\".format(cb_score))\n",
    "        print(\"mr_score:{}\".format(mr_score))\n",
    "        print(\"pr_score:{}\".format(pr_score))\n",
    "        print(\"----------------------------------------------------------\")\n",
    "\n",
    "    cl_score = (id_score*.5 + cb_score*.2 + mr_score*.15 + pr_score*.15)\n",
    "    \n",
    "    return round(cl_score,5)"
   ]
  },
  {
   "cell_type": "markdown",
   "metadata": {},
   "source": [
    "#### Similitud Entidades"
   ]
  },
  {
   "cell_type": "code",
   "execution_count": 40,
   "metadata": {},
   "outputs": [],
   "source": [
    "def individual_similarity(en_1, en_2, dbg=False):\n",
    "    en_score = .0\n",
    "    id_score = .0\n",
    "    cb_score = .0\n",
    "    ir_score = .0\n",
    "    pr_score = 1.0\n",
    "\n",
    "    #Id\n",
    "    id_score = round(distance.jaro_winkler_similarity(en_1.name, en_2.name),5)\n",
    "\n",
    "    #SubclassOf/Types\n",
    "    cb_score = .0        \n",
    "    lst_sbc_scr = []\n",
    "    for sbcl1 in en_1.is_a:\n",
    "         for sbcl2 in en_2.is_a:               \n",
    "            lst_sbc_scr.append(distance.jaro_winkler_similarity(str(sbcl1), str(sbcl2)))                     \n",
    "    cb_score = round(max(lst_sbc_scr), 5)\n",
    "\n",
    "    #Iri\n",
    "    ir_score = round(distance.jaro_winkler_similarity(owl_tag2str(en_1.get_iri), owl_tag2str(en_2.get_iri)),5)\n",
    "\n",
    "    #Properties similarity (annotations, comments)        \n",
    "    lst_prop_en1 = []\n",
    "    lst_prop_en2 = []\n",
    "\n",
    "    for prop in en_1.get_properties():\n",
    "        for value in prop[en_1]:                \n",
    "            lst_prop_en1.append([prop.python_name, value])\n",
    "\n",
    "    for prop in en_2.get_properties():\n",
    "        for value in prop[en_2]:\n",
    "            lst_prop_en2.append([prop.python_name, value])               \n",
    "    \n",
    "    prop_size = max([len(lst_prop_en1), len(lst_prop_en2)])                             \n",
    "    if prop_size > 0:\n",
    "        pr_score = .0\n",
    "        for prop_en1 in lst_prop_en1:\n",
    "            lst_prop_scr = []\n",
    "            for prop_en2 in lst_prop_en2:\n",
    "                if prop_en1[0] == prop_en2[0]: #Same labels\n",
    "                    lst_prop_scr.append(distance.jaro_similarity(prop_en1[1], prop_en2[1]))\n",
    "            if len(lst_prop_scr) > 0:\n",
    "                pr_score = pr_score + max(lst_prop_scr)             \n",
    "        pr_score = round(pr_score/prop_size,5)\n",
    "\n",
    "    #SameIndividualAs\n",
    "\n",
    "    #DifferentIndividuals\n",
    "    \n",
    "    if dbg == True:\n",
    "        print(\"----------------------------------------------------------\")\n",
    "        print(\"INDIVIDUAL SIMILARITY ({}, {})\".format(en_1.name, en_2.name))\n",
    "        print(\"----------------------------------------------------------\")\n",
    "        print(\"id_score:{}\".format(id_score))\n",
    "        print(\"cb_score:{}\".format(cb_score))\n",
    "        print(\"ir_score:{}\".format(ir_score))\n",
    "        print(\"pr_score:{}\".format(pr_score))\n",
    "        print(\"----------------------------------------------------------\")\n",
    "\n",
    "    en_score = (id_score*.5 + cb_score*.2 + ir_score*.15 + pr_score*.15)\n",
    "    \n",
    "    return round(en_score, 5)"
   ]
  },
  {
   "cell_type": "markdown",
   "metadata": {},
   "source": [
    "#### Similitud propiedades de datos"
   ]
  },
  {
   "cell_type": "code",
   "execution_count": 41,
   "metadata": {},
   "outputs": [],
   "source": [
    "def data_property_similarity(dp_1, dp_2, dbg=False):\n",
    "    dp_score = .0\n",
    "    id_score = .0\n",
    "    cb_score = .0\n",
    "    ir_score = .0\n",
    "    re_score = 1.0\n",
    "    fu_score = 0\n",
    "    \n",
    "    if str(dp_1.is_a[0]) == 'owl.DatatypeProperty' and str(dp_2.is_a[0]) == 'owl.DatatypeProperty':\n",
    "\n",
    "        #Id\n",
    "        id_score = round(distance.jaro_winkler_similarity(dp_1.name, dp_2.name),5)\n",
    "\n",
    "        #SubclassOf/Types\n",
    "        cb_score = .0        \n",
    "        lst_sbc_scr = []\n",
    "        for sbcl1 in dp_1.is_a:\n",
    "             for sbcl2 in dp_2.is_a:               \n",
    "                lst_sbc_scr.append(distance.jaro_winkler_similarity(str(sbcl1), str(sbcl2)))                     \n",
    "        cb_score = round(max(lst_sbc_scr), 5)\n",
    "\n",
    "        #Iri\n",
    "        ir_score = round(distance.jaro_winkler_similarity(owl_tag2str(dp_1.get_iri), owl_tag2str(dp_2.get_iri)),5)\n",
    "\n",
    "        #Relations    \n",
    "        lst_rel_dp1 = []\n",
    "        lst_rel_dp2 = []\n",
    "        \n",
    "        for rel in dp_1.get_relations():           \n",
    "            lst_rel_dp1.append([rel[0], rel[1]])\n",
    "\n",
    "        for rel in dp_2.get_relations():           \n",
    "            lst_rel_dp2.append([rel[0], rel[1]])        \n",
    "\n",
    "        rel_size = max([len(lst_rel_dp1), len(lst_rel_dp2)])        \n",
    "        if rel_size > 0:\n",
    "            re_score = .0\n",
    "            for rel_dp1 in lst_rel_dp1:\n",
    "                lst_rel_scr = []\n",
    "                for rel_dp2 in lst_rel_dp2:\n",
    "                    if rel_dp1[0] == rel_dp2[0]: #Relation\n",
    "                        #print(\"{} == {}\".format(rel_dp1[1], rel_dp1[1]))\n",
    "                        lst_rel_scr.append(distance.jaro_similarity(rel_dp1[1], rel_dp2[1]))\n",
    "                if len(lst_rel_scr) > 0:\n",
    "                    re_score = re_score + max(lst_rel_scr)            \n",
    "            re_score = round(re_score/rel_size,5)                \n",
    "        \n",
    "        #IdFunctionalFor\n",
    "        fu_score = round(distance.jaro_winkler_similarity(\n",
    "            owl_tag2str(dp_1.is_functional_for),owl_tag2str(dp_2.is_functional_for)),5)\n",
    "        \n",
    "    if dbg == True:\n",
    "        print(\"----------------------------------------------------------\")\n",
    "        print(\"DATA PROPERTY SIMILARITY ({}, {})\".format(dp_1.name, dp_2.name))\n",
    "        print(\"----------------------------------------------------------\")\n",
    "        print(\"id_score:{}\".format(id_score))\n",
    "        print(\"cb_score:{}\".format(cb_score))\n",
    "        print(\"ir_score:{}\".format(ir_score))\n",
    "        print(\"re_score:{}\".format(re_score))\n",
    "        print(\"fu_score:{}\".format(fu_score))\n",
    "        print(\"----------------------------------------------------------\")\n",
    "\n",
    "    dp_score = (id_score*.27 + cb_score*.23 + ir_score*.2 + re_score*.15 + fu_score*.15)\n",
    "    \n",
    "    return round(dp_score,5)"
   ]
  },
  {
   "cell_type": "markdown",
   "metadata": {},
   "source": [
    "#### Similitud propiedades de objetos"
   ]
  },
  {
   "cell_type": "code",
   "execution_count": 42,
   "metadata": {},
   "outputs": [],
   "source": [
    "def object_property_similarity(op_1, op_2, dbg=False):\n",
    "    op_score = .0\n",
    "    id_score = .0\n",
    "    cb_score = .0\n",
    "    mr_score = .0\n",
    "    re_score = 1.0\n",
    "    fu_score = 0\n",
    "    \n",
    "    if str(op_1.is_a[0]) == 'owl.ObjectProperty' and str(op_2.is_a[0]) == 'owl.ObjectProperty':\n",
    "\n",
    "        #Id\n",
    "        id_score = round(distance.jaro_winkler_similarity(op_1.name, op_2.name),5)\n",
    "\n",
    "        #SubclassOf/Types\n",
    "        cb_score = .0        \n",
    "        lst_sbc_scr = []\n",
    "        for sbcl1 in op_1.is_a:\n",
    "             for sbcl2 in op_2.is_a:               \n",
    "                lst_sbc_scr.append(distance.jaro_winkler_similarity(str(sbcl1), str(sbcl2)))                     \n",
    "        cb_score = round(max(lst_sbc_scr), 5)\n",
    "\n",
    "        #Method Resolution Order\n",
    "        mr_score = round(distance.jaro_winkler_similarity(owl_tag2str(op_1.mro), owl_tag2str(op_2.mro)),5)\n",
    "        \n",
    "        #Relations    \n",
    "        lst_rel_op1 = []\n",
    "        lst_rel_op2 = []\n",
    "        \n",
    "        for rel in op_1.get_relations():           \n",
    "            lst_rel_op1.append([rel[0], rel[1]])\n",
    "\n",
    "        for rel in op_2.get_relations():           \n",
    "            lst_rel_op2.append([rel[0], rel[1]])        \n",
    "\n",
    "        rel_size = max([len(lst_rel_op1), len(lst_rel_op2)])        \n",
    "        if rel_size > 0:\n",
    "            re_score = .0\n",
    "            for rel_op1 in lst_rel_op1:\n",
    "                lst_rel_scr = []\n",
    "                for rel_op2 in lst_rel_op2:\n",
    "                    if rel_op1[0] == rel_op2[0]: #Relation                        \n",
    "                        lst_rel_scr.append(distance.jaro_similarity(rel_op1[1], rel_op2[1]))\n",
    "                if len(lst_rel_scr) > 0:\n",
    "                    re_score = re_score + max(lst_rel_scr)            \n",
    "            re_score = round(re_score/rel_size,5)                \n",
    "        \n",
    "         #IdFunctionalFor\n",
    "        fu_score = round(distance.jaro_winkler_similarity(\n",
    "            owl_tag2str(op_1.is_functional_for),owl_tag2str(op_2.is_functional_for)),5)\n",
    "        \n",
    "        if dbg == True:\n",
    "            print(\"----------------------------------------------------------\")\n",
    "            print(\"OBJECT PROPERTY SIMILARITY ({}, {})\".format(op_1.name, op_2.name))\n",
    "            print(\"----------------------------------------------------------\")\n",
    "            print(\"id_score:{}\".format(id_score))\n",
    "            print(\"cb_score:{}\".format(cb_score))\n",
    "            print(\"mr_score:{}\".format(mr_score))\n",
    "            print(\"re_score:{}\".format(re_score))\n",
    "            print(\"fu_score:{}\".format(fu_score))\n",
    "            print(\"----------------------------------------------------------\")\n",
    "\n",
    "        op_score = (id_score*.27 + cb_score*.23 + mr_score*.2 + re_score*15 + fu_score*.15)\n",
    "    \n",
    "    return round(op_score,5)"
   ]
  },
  {
   "cell_type": "markdown",
   "metadata": {},
   "source": [
    "##### Matriz de correspondencia"
   ]
  },
  {
   "cell_type": "code",
   "execution_count": 43,
   "metadata": {},
   "outputs": [],
   "source": [
    "def create_correspondece_matrix(onto_sm):\n",
    "    onto_sm_voc_size = get_onto_voc_size(onto_sm)\n",
    "    corresp_matrix = [[-1, np.NaN]] * onto_sm_voc_size\n",
    "    return corresp_matrix\n",
    "\n",
    "def create_entity_corresp_matrix(entity_size):   \n",
    "    entity_corresp_matrix = [[-1, np.NaN]] * entity_size\n",
    "    return entity_corresp_matrix"
   ]
  },
  {
   "cell_type": "markdown",
   "metadata": {},
   "source": [
    "##### Evaluación de Correspondencia Contextual"
   ]
  },
  {
   "cell_type": "code",
   "execution_count": 44,
   "metadata": {},
   "outputs": [],
   "source": [
    "#Función vecino explícito OK\n",
    "#All types\n",
    "\n",
    "#Función de extracción de superentidad OK\n",
    "#All types\n",
    "\n",
    "#Función de extracción de subentidades OK\n",
    "#All types\n",
    "\n",
    "#Función Similitud de jerarquía OK\n",
    "#All types with \n",
    "\n",
    "#Similitud de propagación de jerarquía\n",
    "\n",
    "#Dominio de propiedad/similitud de rango\n",
    "\n",
    "#Clase como similitud de dominio/rango\n",
    "\n",
    "#Correspondencia entrecruzada (Criss-cross correspondence)\n",
    "\n",
    "#Evaluación basada en explicaciones"
   ]
  },
  {
   "cell_type": "markdown",
   "metadata": {},
   "source": [
    "##### Evaluación del Nivel de Alineación"
   ]
  },
  {
   "cell_type": "code",
   "execution_count": 45,
   "metadata": {},
   "outputs": [],
   "source": [
    "#Tamaño de alineación\n",
    "def alignment_size(corresp_matrix):\n",
    "    return len(corresp_matrix)\n",
    "\n",
    "#Consistencia de alineación\n",
    "\n",
    "#Coherencia de alineación\n",
    "\n",
    "#Preservación estructural\n",
    "\n",
    "#Alineación entrecruzada (Criss-cross alignment)"
   ]
  },
  {
   "cell_type": "markdown",
   "metadata": {},
   "source": [
    "#### Agregación de similitudes (Función objetivo)\n",
    "\n",
    "Auxiliares"
   ]
  },
  {
   "cell_type": "code",
   "execution_count": 46,
   "metadata": {},
   "outputs": [],
   "source": [
    "def get_alignment_score(corresp_matrix):    \n",
    "    #total = [sum(al[1]) for al in corresp_matrix ]\n",
    "    total = 0\n",
    "    for al in corresp_matrix:\n",
    "        if math.isnan(al[1]) == False:\n",
    "            total = total + al[1]\n",
    "    return round(total, 3)\n",
    "\n",
    "def create_align_score_lst(corresp_mtx_lst):\n",
    "    align_score_lst = []\n",
    "    for cm in range(len(corresp_mtx_lst)):\n",
    "        align_score_lst.append([cm, get_alignment_score(corresp_mtx_lst[cm])])\n",
    "    return align_score_lst"
   ]
  },
  {
   "cell_type": "markdown",
   "metadata": {},
   "source": [
    "Agregación máxima"
   ]
  },
  {
   "cell_type": "code",
   "execution_count": 47,
   "metadata": {},
   "outputs": [],
   "source": [
    "def get_max_aggregation(align_score_lst, num_best=1):\n",
    "    bst_scr_lst = sorted(align_score_lst,key=lambda l:l[1], reverse=True)\n",
    "    return bst_scr_lst[0:num_best]"
   ]
  },
  {
   "cell_type": "markdown",
   "metadata": {},
   "source": [
    "Agregación promedio ponderada"
   ]
  },
  {
   "cell_type": "code",
   "execution_count": null,
   "metadata": {},
   "outputs": [],
   "source": []
  },
  {
   "cell_type": "markdown",
   "metadata": {},
   "source": [
    "Agregación promedio ponderada ordenada"
   ]
  },
  {
   "cell_type": "code",
   "execution_count": null,
   "metadata": {},
   "outputs": [],
   "source": []
  },
  {
   "cell_type": "markdown",
   "metadata": {},
   "source": [
    "#### Auxiliares ontologías"
   ]
  },
  {
   "cell_type": "code",
   "execution_count": 48,
   "metadata": {},
   "outputs": [],
   "source": [
    "def get_onto_voc_size(onto):\n",
    "    #Number of entities in OWL ontology\n",
    "    voc_size = len(list(onto.classes())) + len(list(onto.object_properties())) + len(list(onto.data_properties())) + len(list(onto.individuals()))        \n",
    "    return voc_size\n",
    "\n",
    "def load_owl_ontology(onto_path):\n",
    "    owl_onto = get_ontology(onto_path)\n",
    "    owl_onto.load() \n",
    "    return owl_onto\n",
    "\n",
    "def load_rdf_ontology(onto_path):\n",
    "    rdf_onto = ontospy.Ontospy(onto_path, verbose=True)\n",
    "    return rdf_onto\n",
    "\n",
    "def owl_tag2str(tag_obj):\n",
    "    str_tag = str(tag_obj)\n",
    "    pos = str_tag.find(' of ')\n",
    "    if pos > -1:\n",
    "        str_tag = str_tag[pos+4:len(str_tag)-1]\n",
    "    else :\n",
    "        str_tag = ''\n",
    "    return str_tag\n",
    "\n",
    "def get_correct_map(onto_align, onto_refer):\n",
    "    #Not defined\n",
    "    raise Exception('Undefined')\n",
    "    \n",
    "def get_found_map(onto_align_res):\n",
    "    #Not defined\n",
    "    raise Exception('Undefined')\n",
    "    \n",
    "def get_exist_map(onto_align, onto_refer):\n",
    "    #Not defined\n",
    "    raise Exception('Undefined')\n",
    "    \n",
    "def get_entities_by_type(onto, entity_type):\n",
    "    en_lst = []\n",
    "    if type(onto) == owlready2.namespace.Ontology:\n",
    "        if entity_type == 'cl':\n",
    "            en_lst = list(onto.classes())\n",
    "        elif entity_type == 'in':\n",
    "            en_lst = list(onto.individuals())\n",
    "        elif entity_type == 'dp':\n",
    "            en_lst = list(onto.data_properties())\n",
    "        elif entity_type == 'op':\n",
    "            en_lst = list(onto.object_properties())\n",
    "    return en_lst\n",
    "\n",
    "def entity_similarity(entity_1, entity_2, ent_type):\n",
    "    score = 0.0\n",
    "    if ent_type == 0:\n",
    "        score = class_similarity(entity_1, entity_2)\n",
    "    elif ent_type == 1:       \n",
    "        score = individual_similarity(entity_1, entity_2) \n",
    "    elif ent_type == 2:\n",
    "        score = data_property_similarity(entity_1, entity_2)\n",
    "    elif ent_type == 3:\n",
    "        score = object_property_similarity(entity_1, entity_2) \n",
    "    return score\n",
    "\n",
    "def save_results_cs(onto_align_res):\n",
    "    for i in range(len(onto_align_res)):\n",
    "        pd.DataFrame(onto_align_res[i]).to_csv(r'csv/gen_ga{}.txt'.format(i), index = False)\n",
    "        \n",
    "def get_onto_tree(onto_1_path, onto_2_path):\n",
    "    #Load RDF ontologies\n",
    "    try :\n",
    "        rdf_onto_1 = load_rdf_ontology(onto_1_path)\n",
    "        rdf_onto_2 = load_rdf_ontology(onto_2_path)\n",
    "\n",
    "        print(\"----------------------------------------------------------\")\n",
    "        print(\"ONTOLOGY 1 ({})\".format(owl_onto_1.get_namespace))\n",
    "        print(\"----------------------------------------------------------\")\n",
    "        rdf_onto_1.printClassTree()\n",
    "\n",
    "        print(\"----------------------------------------------------------\")\n",
    "        print(\"ONTOLOGY 2 ({})\".format(owl_onto_2.get_namespace))\n",
    "        print(\"----------------------------------------------------------\")\n",
    "        rdf_onto_2.printClassTree()\n",
    "    except:\n",
    "        print(\"Error al serializar archivos OWL\")\n",
    "\n",
    "def plot_results(lst_scr):\n",
    "    fig= plt.figure(figsize=(10,3))\n",
    "    agr_scr = []\n",
    "    for scr in lst_scr:\n",
    "        agr_scr.append(scr[0][1])\n",
    "\n",
    "    plt.plot(agr_scr)\n",
    "    plt.ylabel('FF')\n",
    "    plt.xlabel('Iteraciones')\n",
    "    plt.show() \n",
    "    \n",
    "def plot_perfomance(itr, scr, xtm):\n",
    "    plt.figure(figsize=(10, 6))\n",
    "\n",
    "    ax = plt.subplot(221)\n",
    "    plt.plot(itr, scr, color='#41a5f5', marker='o')\n",
    "    plt.xlabel('Iteraciones')\n",
    "    plt.ylabel('Puntaje')   \n",
    "    plt.title('Puntaje de Agregación', fontsize=9)\n",
    "    ax.set_ylim([55, 120])\n",
    "    \n",
    "    plt.subplot(222)\n",
    "    plt.plot(itr, xtm, color='#51a71c', marker='o')\n",
    "    plt.xlabel('Iteraciones')\n",
    "    plt.ylabel('Segundos')\n",
    "    plt.title('Tiempo', fontsize=9)\n",
    "    \n",
    "    plt.suptitle('Desempeño ILS', fontsize=12)\n",
    "    plt.show()\n",
    "    \n",
    "    print(\"Agregration scores: {}\".format(lst_scr))\n",
    "    print(\"Execution time: {} seg\".format(lst_xtm, 2))"
   ]
  },
  {
   "cell_type": "markdown",
   "metadata": {},
   "source": [
    "#### Agregación de similitudes"
   ]
  },
  {
   "cell_type": "code",
   "execution_count": 49,
   "metadata": {},
   "outputs": [],
   "source": [
    "def align_ontologies(onto_1_path, onto_2_path, meta_name='GA',\n",
    "                     max_iter=100, pop_size=100, pct_elit=0.2, \n",
    "                     pct_slct=0.2, pct_cros=0.8, pct_muta=0.2,\n",
    "                     dbg=False):        \n",
    "   \n",
    "    #Solution representation\n",
    "    alignment_results = []\n",
    "    \n",
    "    #Load OWL ontologies\n",
    "    owl_onto_1 = load_owl_ontology(onto_1_path)\n",
    "    owl_onto_2 = load_owl_ontology(onto_2_path)\n",
    "    \n",
    "    #if dbg==True:\n",
    "    #    get_onto_tree(onto_1_path, onto_2_path)\n",
    "    \n",
    "    #Get vocabulary size\n",
    "    num_ent_owl_onto_1 = get_onto_voc_size(owl_onto_1)\n",
    "    num_ent_owl_onto_2 = get_onto_voc_size(owl_onto_2)\n",
    "    \n",
    "    #Set largest ontology\n",
    "    onto_lg = owl_onto_1\n",
    "    onto_sm = owl_onto_2   \n",
    "    \n",
    "    if num_ent_owl_onto_1 < num_ent_owl_onto_2:\n",
    "        onto_lg = owl_onto_2\n",
    "        onto_sm = owl_onto_1\n",
    "        \n",
    "    #corr_matrix = create_correspondece_matrix(onto_sm)\n",
    "    #print(len(corr_matrix))\n",
    "    \n",
    "    if dbg==True:\n",
    "        print('num_ent_owl_onto_1: {}'.format(num_ent_owl_onto_1))\n",
    "        print('num_ent_owl_onto_2: {}'.format(num_ent_owl_onto_2))        \n",
    "    \n",
    "    #Ontology similarity\n",
    "    onto_sim_fact = get_ontology_similarity(onto_sm, onto_lg)\n",
    "    \n",
    "    if meta_name == 'GA' or meta_name == '': #Genetic Algorithm\n",
    "        alignment_results, lst_scr, exec_time = genetic_algorithm(onto_sm, onto_lg, max_iter, pop_size, pct_elit, pct_slct, pct_cros, pct_muta, dbg)        \n",
    "    elif meta_name == 'ILS': #Iterative Local Search\n",
    "        alignment_results, lst_scr, exec_time = iterative_local_seach(onto_sm, onto_lg, max_iter)\n",
    "    \n",
    "    return alignment_results, lst_scr, exec_time"
   ]
  },
  {
   "cell_type": "markdown",
   "metadata": {},
   "source": [
    "### Evaluación de Algoritmos de Alineación"
   ]
  },
  {
   "cell_type": "code",
   "execution_count": 50,
   "metadata": {},
   "outputs": [],
   "source": [
    "def get_perform_metrics(onto_align, onto_refer):\n",
    "    #Number of correct mappings\n",
    "    num_corre_map = get_correct_map(onto_align, onto_refer) \n",
    "\n",
    "    #Number of founded mappings\n",
    "    num_found_map = get_found_map(onto_align_res)\n",
    "\n",
    "    #Number of existing mappings\n",
    "    num_exist_map = get_exist_map(onto_align, onto_refer) \n",
    "\n",
    "    #Performance metrics\n",
    "    precision = alignment_precision(num_corre_map, num_found_map)\n",
    "    recall = alignment_recall(num_corre_map, num_exist_map)\n",
    "    f1_score = alignment_f1_score(precision, recall)\n",
    "\n",
    "    return precision, recall, f1_score"
   ]
  },
  {
   "cell_type": "markdown",
   "metadata": {},
   "source": [
    "#### Métricas de desempeño\n",
    "\n",
    "Reference alignment **mapping-freizeit**"
   ]
  },
  {
   "cell_type": "code",
   "execution_count": 51,
   "metadata": {},
   "outputs": [],
   "source": [
    "lst_ref_align = [[58,1.0],[55,1.0],[0,1.0],[19,1.0],[16,1.0],[28,1.0],[24,1.0],[66,1.0],[65,1.0],\n",
    "             [49,1.0],[47,1.0],[22,1.0],[43,1.0],[42,1.0],[53,1.0],[23,1.0],[37,1.0],[31,1.0],\n",
    "             [36,1.0],[33,1.0],[10,1.0],[8,1.0],[68,1.0],[41,1.0],[32,1.0],[17,1.0],[5,1.0],\n",
    "             [1,1.0],[40,1.0],[39,1.0],[57,1.0],[48,1.0],[62,1.0],[30,1.0],[61,1.0],[59,1.0],\n",
    "             [52,1.0],[54,1.0],[3,1.0],[2,1.0],[60,1.0],[9,1.0],[34,1.0],[54,1.0],[18,1.0],\n",
    "             [69,1.0],[26,1.0],[25,1.0],[11,1.0],[64,1.0],[7,1.0],[38,1.0],[56,1.0],[21,1.0],\n",
    "             [20,1.0],[6,1.0],[14,1.0],[67,1.0],[12,1.0],[45,1.0],[15,1.0],[13,1.0],[27,1.0],\n",
    "             [48,1.0],[44,1.0],[29,1.0]]"
   ]
  },
  {
   "cell_type": "markdown",
   "metadata": {},
   "source": [
    "Precisión"
   ]
  },
  {
   "cell_type": "code",
   "execution_count": 52,
   "metadata": {},
   "outputs": [],
   "source": [
    "def alignment_precision(lst_onto_ref, lst_onto_fnd):\n",
    "    num_corre_ref = len(lst_onto_ref)\n",
    "    num_corre_fnd = len(lst_onto_fnd)\n",
    "    num_found_map = 0\n",
    "    if num_corre_ref == num_corre_fnd:\n",
    "        for i in range(num_corre_ref):\n",
    "            if lst_onto_ref[i][0] == lst_onto_fnd[i][0]:\n",
    "                 num_found_map += 1\n",
    "    precision = num_found_map / num_corre_fnd\n",
    "    return round(precision, 3)"
   ]
  },
  {
   "cell_type": "markdown",
   "metadata": {},
   "source": [
    "Recuperación (Recall)"
   ]
  },
  {
   "cell_type": "code",
   "execution_count": 53,
   "metadata": {},
   "outputs": [],
   "source": [
    "def alignment_recall(lst_onto_ref, lst_onto_fnd):\n",
    "    num_corre_ref = len(lst_onto_ref)\n",
    "    num_corre_fnd = len(lst_onto_fnd)\n",
    "    num_found_map = 0\n",
    "    if num_corre_ref == num_corre_fnd:\n",
    "        for i in range(num_corre_ref):\n",
    "            if lst_onto_ref[i][0] == lst_onto_fnd[i][0]:\n",
    "                 num_found_map += 1\n",
    "    recall = num_found_map / num_corre_ref\n",
    "    return round(recall, 3)"
   ]
  },
  {
   "cell_type": "markdown",
   "metadata": {},
   "source": [
    "Puntaje F1 (F1-Score)"
   ]
  },
  {
   "cell_type": "code",
   "execution_count": 54,
   "metadata": {},
   "outputs": [],
   "source": [
    "def alignment_f1_score(precision, recall):\n",
    "    f1_score = 2*((precision * recall)/(precision + recall))\n",
    "    return round(f1_score, 3)"
   ]
  },
  {
   "cell_type": "markdown",
   "metadata": {},
   "source": [
    "Generar métricas"
   ]
  },
  {
   "cell_type": "code",
   "execution_count": 55,
   "metadata": {},
   "outputs": [],
   "source": [
    "def alignment_metrics(lst_onto_ref, lst_onto_fnd):\n",
    "    precision = alignment_precision(lst_onto_ref, lst_onto_fnd)\n",
    "    recall = alignment_recall(lst_onto_ref, lst_onto_fnd)\n",
    "    f1_score = alignment_f1_score(precision, recall)\n",
    "    \n",
    "    print(\"Precisión: {}\".format(precision))\n",
    "    print(\"Recall: {}\".format(recall))\n",
    "    print(\"F1-Score: {}\".format(f1_score))\n",
    "    \n",
    "    return precision, recall, f1_score\n",
    "\n",
    "def get_test_score(test):\n",
    "    df_test = df_exp[df_exp['test']==test]\n",
    "    print('Test {} - Score\\n-------------------------'.format(test))\n",
    "    print(df_test['aggr_scr'].describe())\n",
    "    print('\\nTotal time\\n-------------------------')\n",
    "    print(df_test['tot_time'].describe())    "
   ]
  },
  {
   "cell_type": "markdown",
   "metadata": {},
   "source": [
    "## Metaheurísticas\n",
    "\n",
    "Inicialización aleatoria"
   ]
  },
  {
   "cell_type": "code",
   "execution_count": 56,
   "metadata": {},
   "outputs": [],
   "source": [
    "def generate_rnd_onto_alignment(population_size, onto_sm, onto_lg, dbg=False):        \n",
    "    \n",
    "    #Smallest entities array\n",
    "    sm_lst_cl = get_entities_by_type(onto_sm, 'cl')\n",
    "    sm_lst_in = get_entities_by_type(onto_sm, 'in')\n",
    "    sm_lst_dp = get_entities_by_type(onto_sm, 'dp')\n",
    "    sm_lst_op = get_entities_by_type(onto_sm, 'op')\n",
    "            \n",
    "    #Largest entities array        \n",
    "    lg_lst_cl = get_entities_by_type(onto_lg, 'cl')\n",
    "    lg_lst_in = get_entities_by_type(onto_lg, 'in')\n",
    "    lg_lst_dp = get_entities_by_type(onto_lg, 'dp')\n",
    "    lg_lst_op = get_entities_by_type(onto_lg, 'op')\n",
    "           \n",
    "    #Global smallest entities array\n",
    "    global gl_sm_onto_en\n",
    "    gl_sm_onto_en = []   \n",
    "    gl_sm_onto_en.append(sm_lst_cl)\n",
    "    gl_sm_onto_en.append(sm_lst_in)\n",
    "    gl_sm_onto_en.append(sm_lst_dp)\n",
    "    gl_sm_onto_en.append(sm_lst_op)\n",
    "\n",
    "    #Global largest entities array\n",
    "    global  gl_lg_onto_en\n",
    "    gl_lg_onto_en = []   \n",
    "    gl_lg_onto_en.append(lg_lst_cl)\n",
    "    gl_lg_onto_en.append(lg_lst_in)\n",
    "    gl_lg_onto_en.append(lg_lst_dp)\n",
    "    gl_lg_onto_en.append(lg_lst_op)\n",
    "    \n",
    "    #Smallest lists size\n",
    "    onto_sm_lst_cl = len(sm_lst_cl)\n",
    "    onto_sm_lst_in = len(sm_lst_in)\n",
    "    onto_sm_lst_dp = len(sm_lst_dp)\n",
    "    onto_sm_lst_op = len(sm_lst_op)\n",
    "    \n",
    "    #Largest lists size\n",
    "    onto_lg_lst_cl = len(lg_lst_cl)\n",
    "    onto_lg_lst_in = len(lg_lst_in)\n",
    "    onto_lg_lst_dp = len(lg_lst_dp)\n",
    "    onto_lg_lst_op = len(lg_lst_op)\n",
    "            \n",
    "    #Classses\n",
    "    num_cl_min = min([onto_sm_lst_cl, onto_lg_lst_cl])\n",
    "    num_cl_max = max([onto_sm_lst_cl, onto_lg_lst_cl])  \n",
    "    \n",
    "    #Individuals\n",
    "    num_in_min = min([onto_sm_lst_in, onto_lg_lst_in])\n",
    "    num_in_max = max([onto_sm_lst_in, onto_lg_lst_in])  \n",
    "    \n",
    "    #Data properties\n",
    "    num_dp_min = min([onto_sm_lst_dp, onto_lg_lst_dp])\n",
    "    num_dp_max = max([onto_sm_lst_dp, onto_lg_lst_dp]) \n",
    "    \n",
    "    #Object properties\n",
    "    num_op_min = min([onto_sm_lst_op, onto_lg_lst_op])\n",
    "    num_op_max = max([onto_sm_lst_op, onto_lg_lst_op])\n",
    "    \n",
    "    global gl_sol_repr_dim\n",
    "    gl_sol_repr_dim = [num_cl_min, num_in_min, num_dp_min, num_op_min]          \n",
    "    \n",
    "    if dbg == True:\n",
    "        print(\"----------------------------------------------------------\")\n",
    "        print(\"ENTITIES\")\n",
    "        print(\"----------------------------------------------------------\")\n",
    "        print('Classes      min:{} max:{}'.format(num_cl_min, num_cl_max))\n",
    "        print('Individuals  min:{} max:{}'.format(num_in_min, num_in_max))\n",
    "        print('Data prop.   min:{} max:{}'.format(num_dp_min, num_dp_max))\n",
    "        print('Object prop. min:{} max:{}'.format(num_op_min, num_op_max))\n",
    "        print(\"----------------------------------------------------------\")\n",
    "            \n",
    "    entities_types = [\"cl\", \"in\", \"dp\", \"op\"]    \n",
    "    corresp_matrix = []\n",
    "    \n",
    "    for ps in range(population_size):\n",
    "        cl_corresp_matrix = create_entity_corresp_matrix(onto_sm_lst_cl)\n",
    "        in_corresp_matrix = create_entity_corresp_matrix(onto_sm_lst_in)\n",
    "        dp_corresp_matrix = create_entity_corresp_matrix(onto_sm_lst_dp)\n",
    "        op_corresp_matrix = create_entity_corresp_matrix(onto_sm_lst_op)\n",
    "        \n",
    "        for en in entities_types:\n",
    "            if en == \"cl\": #Classes\n",
    "                if onto_sm_lst_cl > 0 and onto_lg_lst_cl >= onto_sm_lst_cl:\n",
    "                    lst = random.sample(list(range(0, onto_lg_lst_cl)), onto_sm_lst_cl)\n",
    "                    for j in range(onto_sm_lst_cl):\n",
    "                        pos = lst[j]\n",
    "                        class_1 = sm_lst_cl[j]\n",
    "                        class_2 = lg_lst_cl[pos]\n",
    "                        score = class_similarity(class_1, class_2)                                                                       \n",
    "                        cl_corresp_matrix[j] = [pos, score]\n",
    "            \n",
    "            elif en == \"in\": #Individuals            \n",
    "                if onto_sm_lst_in > 0 and onto_lg_lst_in >= onto_sm_lst_in:\n",
    "                    lst = random.sample(list(range(0, onto_lg_lst_in)), onto_sm_lst_in)\n",
    "                    for j in range(onto_sm_lst_in):                                               \n",
    "                        pos = lst[j]                        \n",
    "                        indiv_1 = sm_lst_in[j]                                                \n",
    "                        indiv_2 = lg_lst_in[pos]                        \n",
    "                        score = individual_similarity(indiv_1, indiv_2)                                                                       \n",
    "                        in_corresp_matrix[j] = [pos, score]                    \n",
    "            \n",
    "            elif en == \"dp\": #Data properties\n",
    "                if onto_sm_lst_dp > 0 and onto_lg_lst_dp >= onto_sm_lst_dp:                \n",
    "                    lst = random.sample(list(range(0, onto_lg_lst_dp)), onto_sm_lst_dp)\n",
    "                    for j in range(onto_sm_lst_dp):                                                \n",
    "                        pos = lst[j]                        \n",
    "                        datap_1 = sm_lst_dp[j]                                                \n",
    "                        datap_2 = lg_lst_dp[pos]                        \n",
    "                        score = data_property_similarity(datap_1, datap_2)                                                                       \n",
    "                        dp_corresp_matrix[j] = [pos, score]                 \n",
    "                        \n",
    "            elif en == \"op\":                \n",
    "                if onto_sm_lst_op > 0 and onto_lg_lst_op >= onto_sm_lst_op:\n",
    "                    lst = random.sample(list(range(0, onto_lg_lst_op)), onto_sm_lst_op)\n",
    "                    for j in range(onto_sm_lst_op):                                                \n",
    "                        pos = lst[j]\n",
    "                        objpr_1 = sm_lst_op[j]                                   \n",
    "                        objpr_2 = lg_lst_op[pos]                        \n",
    "                        score = object_property_similarity(objpr_1, objpr_2)\n",
    "                        op_corresp_matrix[j] = [pos, score]\n",
    "            \n",
    "        corresp_matrix.append(cl_corresp_matrix+in_corresp_matrix+dp_corresp_matrix+op_corresp_matrix)\n",
    "    \n",
    "    return corresp_matrix"
   ]
  },
  {
   "cell_type": "markdown",
   "metadata": {},
   "source": [
    "### Metaheurística de población\n",
    "\n",
    "#### ALGORITIMO GENETICO"
   ]
  },
  {
   "cell_type": "markdown",
   "metadata": {},
   "source": [
    "Genética: *Crear generación inicial*"
   ]
  },
  {
   "cell_type": "code",
   "execution_count": 57,
   "metadata": {},
   "outputs": [],
   "source": [
    "def create_parent_generation(pop_size, onto_sm, onto_lg):\n",
    "    parents = generate_rnd_onto_alignment(pop_size, onto_sm, onto_lg, True)\n",
    "    return parents"
   ]
  },
  {
   "cell_type": "markdown",
   "metadata": {},
   "source": [
    "Genética: *Selección viabilidad*"
   ]
  },
  {
   "cell_type": "code",
   "execution_count": 58,
   "metadata": {},
   "outputs": [],
   "source": [
    "def is_acceptable(parent):\n",
    "    return np.logical_not((np.array(parent)[:,:,2:] > 10).any()) #Axioms evaluation\n",
    "\n",
    "def select_acceptable(parent_gen):\n",
    "    parent_gen = [parent for parent in parent_gen if is_acceptable(parent)]\n",
    "    return parent_gen"
   ]
  },
  {
   "cell_type": "markdown",
   "metadata": {},
   "source": [
    "Genética: *Selección máxima agregación (ajuste inverso)*"
   ]
  },
  {
   "cell_type": "code",
   "execution_count": 59,
   "metadata": {},
   "outputs": [],
   "source": [
    "def select_best(onto_gen, pct_elit):\n",
    "    best_gen = []\n",
    "    n_best = int(len(onto_gen)*pct_elit)\n",
    "    \n",
    "    align_score_lst = create_align_score_lst(onto_gen)\n",
    "    if n_best > len(onto_gen) : n_best = len(onto_gen)\n",
    "    max_aggr_lst = get_max_aggregation(align_score_lst, n_best)\n",
    "        \n",
    "#     print(\"BEST AGGREGATION SCORES\")\n",
    "#     print(\"----------------------------------------------------------\")\n",
    "#     print(max_aggr_lst)\n",
    "#     print(\"----------------------------------------------------------\")\n",
    "    \n",
    "    for ma in range(len(max_aggr_lst)):\n",
    "        best_gen.append(onto_gen[max_aggr_lst[ma][0]])\n",
    "        \n",
    "    return best_gen, max_aggr_lst"
   ]
  },
  {
   "cell_type": "markdown",
   "metadata": {},
   "source": [
    "Genética: *Mutación*"
   ]
  },
  {
   "cell_type": "code",
   "execution_count": 69,
   "metadata": {},
   "outputs": [],
   "source": [
    "def mutate_parent(parent_gen, n_mutations=1,  mut_type='alo'):    \n",
    "    parent = parent_gen \n",
    "    \n",
    "    for i in range(n_mutations):         \n",
    "        r_ini, r_end = 0, gl_sol_repr_dim[0]-1\n",
    "        for srd in range(4):   \n",
    "            if srd > 0:\n",
    "                if  gl_sol_repr_dim[srd] > 0:\n",
    "                    r_ini = r_end_+1\n",
    "                    r_end = r_end_+gl_sol_repr_dim[srd]\n",
    "                else:\n",
    "                    r_ini = r_end_       \n",
    "            \n",
    "            r_ini_, r_end_ = r_ini, r_end    \n",
    "            #print(\"srd:{} {} {}\\n\".format(srd, r_ini_, r_end_))\n",
    "\n",
    "            if r_end > r_ini and gl_sol_repr_dim[srd] > 0:\n",
    "                #Mutation behaviour\n",
    "                \n",
    "                #Swap Random\n",
    "                lst = random.sample(list(range(r_ini_, r_end_)), 2)\n",
    "                parent[lst[0]], parent[lst[1]] = parent[lst[1]], parent[lst[0]]\n",
    "                \n",
    "                #Evaluate correspondence\n",
    "                score = [0.0, 0.0]\n",
    "                for p in range(2): \n",
    "                    entity_1 = gl_sm_onto_en[srd][lst[p]-r_ini_]\n",
    "                    entity_2 = gl_lg_onto_en[srd][parent[lst[p]][0]]                    \n",
    "                        \n",
    "                    if mut_type == 'jtb' or mut_type == 'alo' or mut_type == 'scr':\n",
    "                        score[p] = entity_similarity(entity_1, entity_2, srd)\n",
    "                    else:\n",
    "                        parent[lst[p]][1] = entity_similarity(entity_1, entity_2, srd)\n",
    "                                \n",
    "                if mut_type == 'jtb': #Just the best                    \n",
    "                    if score[0] >= parent[lst[0]][1] and score[1] >= parent[lst[1]][1]:\n",
    "                        parent[lst[0]][1],  parent[lst[1]][1] = score[0],score[1]\n",
    "                    else:\n",
    "                        parent[lst[0]], parent[lst[1]] = parent[lst[1]], parent[lst[0]]\n",
    "                        \n",
    "                if mut_type == 'alo': #At least one                   \n",
    "                    if score[0] > parent[lst[0]][1] or score[1] > parent[lst[1]][1]:\n",
    "                        parent[lst[0]][1],  parent[lst[1]][1] = score[0],score[1]\n",
    "                    else:\n",
    "                        parent[lst[0]], parent[lst[1]] = parent[lst[1]], parent[lst[0]]\n",
    "                        \n",
    "                if mut_type == 'scr': #Score results\n",
    "                    if sum(score) > parent[lst[0]][1]+parent[lst[1]][1]:                    \n",
    "                        parent[lst[0]][1],  parent[lst[1]][1] = score[0],score[1]\n",
    "                    else:\n",
    "                        parent[lst[0]], parent[lst[1]] = parent[lst[1]], parent[lst[0]]\n",
    "                    \n",
    "    return parent\n",
    "\n",
    "def mutate_gen(parent_gen, pct_muta, n_mutations, mut_type):\n",
    "    n_parent_muta = int(len(parent_gen)*(1-pct_muta))\n",
    "    \n",
    "    unmutat_parent_gen = parent_gen[0:n_parent_muta]\n",
    "    mutated_parent_gen = parent_gen[n_parent_muta:len(parent_gen)]\n",
    "\n",
    "    for p in range(len(mutated_parent_gen)):\n",
    "        mutated_parent_gen[p] = mutate_parent(mutated_parent_gen[p], n_mutations, mut_type)\n",
    "        \n",
    "    return unmutat_parent_gen+mutated_parent_gen"
   ]
  },
  {
   "cell_type": "markdown",
   "metadata": {},
   "source": [
    "Genética: *Crossover*"
   ]
  },
  {
   "cell_type": "code",
   "execution_count": 66,
   "metadata": {},
   "outputs": [],
   "source": [
    "def crossover(parents, pop_size, cro_type, pct_slct, pct_cros):\n",
    "    n_parents = len(parents)\n",
    "    n_offspring = pop_size-n_parents     \n",
    "    offspring = []\n",
    "    for i in range(n_offspring):\n",
    "        lst = random.sample(list(range(0, n_parents)), 2)\n",
    "        child = create_offspring(\n",
    "            parents[lst[0]],\n",
    "            parents[lst[1]],\n",
    "            cro_type,\n",
    "            pct_slct,\n",
    "            pct_cros\n",
    "        )\n",
    "        offspring.append(child)    \n",
    "    return parents+offspring\n",
    "\n",
    "def create_offspring(dad, mom, cro_type='srn', pct_slct=0.4, pct_cros=0.5):\n",
    "    desc_offspring = []    \n",
    "        \n",
    "    #Dominant and recesive genes\n",
    "    if get_alignment_score(mom) > get_alignment_score(dad):\n",
    "        dom_gen, rec_gen = mom, dad       \n",
    "    else:\n",
    "        dom_gen, rec_gen = dad, mom\n",
    "    \n",
    "    len_dom = len(dom_gen)    \n",
    "    lst = random.sample(list(range(0, len_dom)), int(len_dom*pct_slct))\n",
    "    \n",
    "    #print('Lista: {}'.format(lst))\n",
    "    \n",
    "    if cro_type == 'jtb': #Just The Best            \n",
    "        for i in range(len_dom):\n",
    "            if rec_gen[i][1] >= dom_gen[i][1]:\n",
    "                desc_offspring.append(rec_gen[i])\n",
    "            else:\n",
    "                desc_offspring.append(dom_gen[i])\n",
    "                \n",
    "    elif cro_type == 'stb': #Swap the best\n",
    "        for i in lst:\n",
    "            if rec_gen[i][1] >= dom_gen[i][1]: \n",
    "                 dom_gen[i] = rec_gen[i]        \n",
    "        desc_offspring = dom_gen\n",
    "        \n",
    "    elif cro_type == 'srn': #Swap randomly        \n",
    "        for i in lst:\n",
    "            genotype = rec_gen[i]\n",
    "            \n",
    "            #Search for the same genotype in fenotype (dom_gen)\n",
    "            pos = -1\n",
    "            for g in range(len(dom_gen)):                \n",
    "                if genotype[0] == dom_gen[g][0]:                   \n",
    "                    pos = g\n",
    "                    break\n",
    "            \n",
    "            #Swap\n",
    "            srd = 0 # get_type_by_pos[i]\n",
    "            \n",
    "            if g > -1:\n",
    "                dom_gen[pos] = dom_gen[i]                \n",
    "                entity_1 = gl_sm_onto_en[srd][pos]\n",
    "                entity_2 = gl_lg_onto_en[srd][dom_gen[pos][0]]\n",
    "                dom_gen[pos][1] = entity_similarity(entity_1, entity_2, srd)\n",
    "            \n",
    "            dom_gen[i] = genotype            \n",
    "            entity_1 = gl_sm_onto_en[srd][i]\n",
    "            entity_2 = gl_lg_onto_en[srd][dom_gen[i][0]]\n",
    "            dom_gen[i][1] = entity_similarity(entity_1, entity_2, srd)\n",
    "\n",
    "        desc_offspring = dom_gen\n",
    "                            \n",
    "    return desc_offspring"
   ]
  },
  {
   "cell_type": "code",
   "execution_count": 62,
   "metadata": {},
   "outputs": [],
   "source": [
    "#gl_sm_onto_en"
   ]
  },
  {
   "cell_type": "code",
   "execution_count": 63,
   "metadata": {},
   "outputs": [],
   "source": [
    "#gl_lg_onto_en"
   ]
  },
  {
   "cell_type": "markdown",
   "metadata": {},
   "source": [
    "Función *General*"
   ]
  },
  {
   "cell_type": "code",
   "execution_count": 67,
   "metadata": {},
   "outputs": [],
   "source": [
    "def genetic_algorithm(onto_sm, onto_lg, max_iter, pop_size, pct_elit, pct_slct, pct_cros, pct_muta, dbg=False):\n",
    "        \n",
    "    lst_scr = []\n",
    "    cro_type = 'srn' # 'jtb': #Just The Best - 'stb': #Swap the best - 'srn': #Swap randomly \n",
    "    \n",
    "    mut_type = 'scr' # 'swp': #Swap - 'jtb': #Just The Best - 'alo': #At least one - 'scr': #Score results\n",
    "    n_mutations = 2\n",
    "    \n",
    "    start = time.time()\n",
    "    \n",
    "    parent_gen = create_parent_generation(pop_size, onto_sm, onto_lg)\n",
    "        \n",
    "    end = time.time()\n",
    "    nseg1 = end - start\n",
    "            \n",
    "    start = time.time()\n",
    "    \n",
    "    for it in range(max_iter):\n",
    "        if dbg == True:\n",
    "            print(\"Iteration \\t : \\t {}\".format(it))        \n",
    "        \n",
    "        parent_gen, agr_scr = select_best(parent_gen, pct_elit)\n",
    "        if dbg == True:\n",
    "            print(\"select_best \\t : \\t {}\".format(len(parent_gen)))        \n",
    "            print(\"sb score \\t : \\t {}\".format(agr_scr[0][1]))        \n",
    "                       \n",
    "        parent_gen = crossover(parent_gen, pop_size, cro_type, pct_slct, pct_cros)\n",
    "        if dbg == True:\n",
    "            print(\"crossover \\t : \\t {}\".format(len(parent_gen)))        \n",
    "            scr = get_max_aggregation(create_align_score_lst(parent_gen), 1)        \n",
    "            print(\"co score \\t : \\t {}\".format(scr[0][1]))\n",
    "        \n",
    "        parent_gen = mutate_gen(parent_gen, pct_muta, n_mutations, mut_type)\n",
    "        if dbg == True:\n",
    "            print(\"mutate_gen \\t : \\t {}\".format(len(parent_gen)))\n",
    "            scr = get_max_aggregation(create_align_score_lst(parent_gen), 1)        \n",
    "            print(\"mu score \\t : \\t {}\".format(scr[0][1]))        \n",
    "            print(\"----------------------------------------------------------\")                \n",
    "        \n",
    "        lst_scr.append(agr_scr)\n",
    "        \n",
    "    best_child, agr_scr = select_best(parent_gen, pct_elit)\n",
    "    lst_scr.append(agr_scr)\n",
    "    \n",
    "    end = time.time()\n",
    "    nseg2 = end - start\n",
    "    \n",
    "    lst_secs = [nseg1, nseg2]\n",
    "    \n",
    "    return best_child, lst_scr, lst_secs"
   ]
  },
  {
   "cell_type": "markdown",
   "metadata": {},
   "source": [
    "#### Ejecutar"
   ]
  },
  {
   "cell_type": "code",
   "execution_count": 70,
   "metadata": {
    "scrolled": true
   },
   "outputs": [
    {
     "name": "stdout",
     "output_type": "stream",
     "text": [
      "----------------------------------------------------------\n",
      "ENTITIES\n",
      "----------------------------------------------------------\n",
      "Classes      min:66 max:70\n",
      "Individuals  min:0 max:0\n",
      "Data prop.   min:0 max:0\n",
      "Object prop. min:0 max:0\n",
      "----------------------------------------------------------\n"
     ]
    },
    {
     "data": {
      "image/png": "[encoded data removed]",
      "text/plain": [
       "<Figure size 1000x300 with 1 Axes>"
      ]
     },
     "metadata": {},
     "output_type": "display_data"
    },
    {
     "name": "stdout",
     "output_type": "stream",
     "text": [
      "Total execution time: 401.9 secs \t inicialization: 7.8 secs (0.02%) \t iterations: 394.1 secs  (0.98%) \n"
     ]
    }
   ],
   "source": [
    "#Paths\n",
    "onto_path_one = 'data_test/mapping-freizeit/dmoz.Freizeit.owl'\n",
    "onto_path_two = 'data_test/mapping-freizeit/Google.Freizeit.owl'\n",
    "\n",
    "# onto_path_one = 'data_test/mapping-lebensmittel/Google.Lebensmittel.owl'\n",
    "# onto_path_two = 'data_test/mapping-lebensmittel/web.Lebensmittel.owl'\n",
    "\n",
    "max_iter = 200 #maxIterations (Generations)\n",
    "pop_size = 100 #populationSize\n",
    "\n",
    "#Select best\n",
    "pct_elit = 0.1 #eliteFraction\n",
    "\n",
    "#Crossover\n",
    "pct_slct = 0.15 #selectFraction\n",
    "pct_cros = 0.2 #crossPob\n",
    "\n",
    "#Mutate\n",
    "pct_muta = 0.2 #mutatePob\n",
    "\n",
    "#Create ontology alignment\n",
    "onto_align_res, lst_scr, exec_time = align_ontologies(onto_path_one, onto_path_two, 'GA', max_iter, \n",
    "                                        pop_size, pct_elit, pct_slct, pct_cros, pct_muta, dbg=False)\n",
    "\n",
    "#Display line chart\n",
    "plot_results(lst_scr)\n",
    "\n",
    "#Execution time\n",
    "init_time = round(exec_time[0],1)\n",
    "iter_time = round(exec_time[1],1)\n",
    "total_exec_time = round(sum(exec_time),1)\n",
    "prc_init = round(init_time/total_exec_time,2)\n",
    "prc_iter = round(iter_time/total_exec_time,2)\n",
    "\n",
    "print(\"Total execution time: {} secs \\t inicialization: {} secs ({}%) \\t iterations: {} secs  ({}%) \".format(total_exec_time, init_time, prc_init, iter_time, prc_iter))\n",
    "\n",
    "#Performance metrics\n",
    "#precision, recall, f1_score = get_perform_metrics(onto_align_res, onto_align_ref)"
   ]
  },
  {
   "cell_type": "code",
   "execution_count": 33,
   "metadata": {},
   "outputs": [
    {
     "data": {
      "text/plain": [
       "55.333"
      ]
     },
     "execution_count": 33,
     "metadata": {},
     "output_type": "execute_result"
    }
   ],
   "source": [
    "lst_scr[len(lst_scr)-1][0][1]"
   ]
  },
  {
   "cell_type": "code",
   "execution_count": 34,
   "metadata": {},
   "outputs": [
    {
     "name": "stdout",
     "output_type": "stream",
     "text": [
      "Precisión: 0.879\n",
      "Recall: 0.879\n",
      "F1-Score: 0.879\n"
     ]
    }
   ],
   "source": [
    "precision, recall, f1_score = alignment_metrics(lst_ref_align, onto_align_res[0])"
   ]
  },
  {
   "cell_type": "markdown",
   "metadata": {},
   "source": [
    "#### Experimentation (random parameters)"
   ]
  },
  {
   "cell_type": "code",
   "execution_count": null,
   "metadata": {},
   "outputs": [],
   "source": [
    "def ga_test(onto_path_one, onto_path_two, max_tests=5, num_test=5):\n",
    "    prm_max_iter = [50, 100, 200] #maxIterations (Generations)\n",
    "    prm_pop_size = [50, 100, 150] #populationSize\n",
    "\n",
    "    #Select best\n",
    "    prm_pct_elit = [0.1, 0.2, 0.3] #eliteFraction\n",
    "\n",
    "    #Crossover\n",
    "    prm_pct_slct = [0.1, 0.15, 0.2] #selectFraction\n",
    "    pct_cros = 0.2 #crossPob\n",
    "\n",
    "    #Mutate\n",
    "    prm_pct_muta = [0.1, 0.2, 0.3] #mutatePob\n",
    "            \n",
    "    lst_prm_sel = []\n",
    "    lst_results = []\n",
    "    \n",
    "    n_tests = 0\n",
    "    \n",
    "    while n_tests < max_tests:\n",
    "#         pos_max_iter = random.randint(0, len(prm_max_iter)-1)\n",
    "#         pos_pop_size = random.randint(0, len(prm_pop_size)-1)\n",
    "#         pos_pct_elit = random.randint(0, len(prm_pct_elit)-1)\n",
    "#         pos_pct_slct = random.randint(0, len(prm_pct_slct)-1)\n",
    "#         pos_pct_muta = random.randint(0, len(prm_pct_muta)-1)\n",
    "        \n",
    "#         max_iter = prm_max_iter[pos_max_iter]\n",
    "#         pop_size = prm_pop_size[pos_pop_size]\n",
    "#         pct_elit = prm_pct_elit[pos_pct_elit]\n",
    "#         pct_slct = prm_pct_slct[pos_pct_slct]\n",
    "#         pct_muta = prm_pct_muta[pos_pct_muta]\n",
    "\n",
    "        max_iter = 200 #maxIterations (Generations)\n",
    "        pop_size = 100 #populationSize\n",
    "        pct_elit = 0.1 #eliteFraction\n",
    "        #Crossover\n",
    "        pct_slct = 0.15 #selectFraction\n",
    "        pct_cros = 0.2 #crossPob\n",
    "        #Mutate\n",
    "        pct_muta = 0.2 #mutatePob\n",
    "        \n",
    "        prm_sel = []\n",
    "        prm_sel.append(max_iter)\n",
    "        prm_sel.append(pop_size)\n",
    "        prm_sel.append(pct_elit)\n",
    "        prm_sel.append(pct_slct)\n",
    "        prm_sel.append(pct_muta)\n",
    "        \n",
    "        res_mtr = [.0, .0, .0]\n",
    "        \n",
    "        if prm_sel not in lst_prm_sel:\n",
    "            #print(prm_sel)\n",
    "            lst_prm_sel.append(prm_sel)\n",
    "            \n",
    "            for i in range(num_test):\n",
    "                #Create ontology alignment\n",
    "                onto_align_res, lst_scr, exec_time = align_ontologies(\n",
    "                            onto_path_one, onto_path_two, 'GA', max_iter, \n",
    "                            pop_size, pct_elit, pct_slct, pct_cros, pct_muta, dbg=False)\n",
    "\n",
    "                results = [\n",
    "                            lst_scr[len(lst_scr)-1][0][1], #Max agregation score\n",
    "                            round(exec_time[0],1), #init_time\n",
    "                            round(exec_time[1],1), #iter_time\n",
    "                            round(sum(exec_time),1) #total_exec_time\n",
    "                          ]\n",
    "                \n",
    "                res_mtr[0], res_mtr[1], res_mtr[2] = alignment_metrics(lst_ref_align, onto_align_res[0])\n",
    "\n",
    "                lst_results.append([n_tests+1]+prm_sel+results+res_mtr)\n",
    "    \n",
    "            n_tests += 1\n",
    "        else:\n",
    "            prm_sel.clear\n",
    "            \n",
    "    df_exp_res = pd.DataFrame(lst_results)\n",
    "    df_exp_res.columns =['test', 'max_iter', 'pop_size', 'pct_elit', 'pct_slct', 'pct_muta',\n",
    "                         'aggr_scr', 'init_time', 'iter_time', 'tot_time', 'precision', 'recall', 'f1_score'] \n",
    "    \n",
    "    return df_exp_res"
   ]
  },
  {
   "cell_type": "code",
   "execution_count": null,
   "metadata": {},
   "outputs": [],
   "source": [
    "onto_path_one = 'data_test/mapping-freizeit/dmoz.Freizeit.owl'\n",
    "onto_path_two = 'data_test/mapping-freizeit/Google.Freizeit.owl'\n",
    "\n",
    "df_exp = ga_test(onto_path_one, onto_path_two, 2)"
   ]
  },
  {
   "cell_type": "code",
   "execution_count": null,
   "metadata": {},
   "outputs": [],
   "source": [
    "get_test_score(1)"
   ]
  },
  {
   "cell_type": "code",
   "execution_count": 44,
   "metadata": {},
   "outputs": [
    {
     "data": {
      "image/png": "[encoded data removed]",
      "text/plain": [
       "<Figure size 600x300 with 1 Axes>"
      ]
     },
     "metadata": {},
     "output_type": "display_data"
    }
   ],
   "source": [
    "plt.title(\"Tiempo de iteración por número de iteraciones\", fontsize=9)\n",
    "ax = sns.barplot(x=\"max_iter\", y=\"iter_time\", hue=\"pct_elit\", palette=\"Set2\", data=df_exp)"
   ]
  },
  {
   "cell_type": "code",
   "execution_count": 45,
   "metadata": {},
   "outputs": [
    {
     "data": {
      "image/png": "[encoded data removed]",
      "text/plain": [
       "<Figure size 600x300 with 1 Axes>"
      ]
     },
     "metadata": {},
     "output_type": "display_data"
    }
   ],
   "source": [
    "plt.title(\"Aggr Score obtenido número de iteraciones\", fontsize=9)\n",
    "ax = sns.boxplot(x=\"max_iter\", y=\"aggr_scr\", palette=\"Set2\", data=df_exp)"
   ]
  },
  {
   "cell_type": "code",
   "execution_count": 46,
   "metadata": {},
   "outputs": [
    {
     "data": {
      "image/png": "[encoded data removed]",
      "text/plain": [
       "<Figure size 600x300 with 1 Axes>"
      ]
     },
     "metadata": {},
     "output_type": "display_data"
    }
   ],
   "source": [
    "plt.title(\"Aggr Score obtenido por tamaño de la población\", fontsize=9)\n",
    "ax = sns.boxplot(x=\"pop_size\", y=\"aggr_scr\", palette=\"Set2\", data=df_exp)"
   ]
  },
  {
   "cell_type": "code",
   "execution_count": 47,
   "metadata": {},
   "outputs": [
    {
     "data": {
      "image/png": "[encoded data removed]",
      "text/plain": [
       "<Figure size 600x300 with 1 Axes>"
      ]
     },
     "metadata": {},
     "output_type": "display_data"
    }
   ],
   "source": [
    "plt.title(\"Aggr Score obtenido por % Elite (SB)\", fontsize=9)\n",
    "ax = sns.boxplot(x=\"pct_elit\", y=\"aggr_scr\", palette=\"Set2\", data=df_exp)"
   ]
  },
  {
   "cell_type": "code",
   "execution_count": 48,
   "metadata": {},
   "outputs": [
    {
     "data": {
      "image/png": "[encoded data removed]",
      "text/plain": [
       "<Figure size 600x300 with 1 Axes>"
      ]
     },
     "metadata": {},
     "output_type": "display_data"
    }
   ],
   "source": [
    "plt.title(\"Aggr Score obtenido por por % selección (CO)\", fontsize=9)\n",
    "ax = sns.boxplot(x=\"pct_slct\", y=\"aggr_scr\", palette=\"Set2\", data=df_exp)"
   ]
  },
  {
   "cell_type": "code",
   "execution_count": 49,
   "metadata": {},
   "outputs": [
    {
     "data": {
      "image/png": "[encoded data removed]",
      "text/plain": [
       "<Figure size 600x300 with 1 Axes>"
      ]
     },
     "metadata": {},
     "output_type": "display_data"
    }
   ],
   "source": [
    "plt.title(\"Aggr Score obtenido por por % mutación (MU)\", fontsize=9)\n",
    "ax = sns.boxplot(x=\"pct_muta\", y=\"aggr_scr\", palette=\"Set2\", data=df_exp)"
   ]
  },
  {
   "cell_type": "code",
   "execution_count": 50,
   "metadata": {},
   "outputs": [
    {
     "data": {
      "text/plain": [
       "<AxesSubplot:xlabel='iter_time', ylabel='aggr_scr'>"
      ]
     },
     "execution_count": 50,
     "metadata": {},
     "output_type": "execute_result"
    },
    {
     "data": {
      "image/png": "[encoded data removed]",
      "text/plain": [
       "<Figure size 600x300 with 1 Axes>"
      ]
     },
     "metadata": {},
     "output_type": "display_data"
    }
   ],
   "source": [
    "score_rate = df_exp.eval(\"aggr_scr / iter_time\").rename(\"score_rate\")\n",
    "sns.scatterplot(data=df_exp, x=\"iter_time\", y=\"aggr_scr\", hue=score_rate)"
   ]
  },
  {
   "cell_type": "markdown",
   "metadata": {},
   "source": [
    "### Metaheurística de solución única\n",
    "\n",
    "#### BUSQUEDA LOCAL ITERATIVA\n",
    "Función general"
   ]
  },
  {
   "cell_type": "code",
   "execution_count": 51,
   "metadata": {},
   "outputs": [],
   "source": [
    "def iterative_local_seach(onto_sm, onto_lg, num_iter):\n",
    "    start = time.time()\n",
    "    \n",
    "    #Create initial solution\n",
    "    found_solution = create_local_solution(onto_sm, onto_sm)\n",
    "    \n",
    "    #Greedy\n",
    "    for it in range(num_iter):\n",
    "        candidate_solution = create_local_solution(onto_sm, onto_lg)                \n",
    "        if get_alignment_score(candidate_solution) > get_alignment_score(found_solution):\n",
    "            found_solution = candidate_solution\n",
    "    \n",
    "    end = time.time()\n",
    "    nseg = end - start\n",
    "    \n",
    "    return found_solution, get_alignment_score(found_solution), nseg\n",
    "\n",
    "def iterative_local_seach2(onto_sm, onto_lg, num_iter, max_attempts = 10):\n",
    "    start = time.time()     \n",
    "    \n",
    "    #Create initial solution\n",
    "    found_solution = create_local_solution(onto_sm, onto_sm)\n",
    "    \n",
    "    for it in range(num_iter):\n",
    "        candidate_solution = create_local_solution(onto_sm, onto_lg)\n",
    "        attempts = 0\n",
    "        \n",
    "        while get_alignment_score(found_solution) < get_alignment_score(candidate_solution) and attempts <= max_attempts:\n",
    "            found_solution = create_local_solution(onto_sm, onto_sm)                   \n",
    "            attempts += 1\n",
    "                \n",
    "    end = time.time()\n",
    "    nseg = end - start\n",
    "    \n",
    "    return found_solution, get_alignment_score(found_solution), nseg\n",
    "\n",
    "def create_local_solution(onto_sm, onto_lg, ns_size=20):\n",
    "    solutions = generate_rnd_onto_alignment(ns_size, onto_sm, onto_lg, False)\n",
    "    solution, agr_scr = select_best(solutions, 1)\n",
    "    return solution[0]"
   ]
  },
  {
   "cell_type": "markdown",
   "metadata": {},
   "source": [
    "#### Ejecutar"
   ]
  },
  {
   "cell_type": "code",
   "execution_count": 52,
   "metadata": {},
   "outputs": [],
   "source": [
    "lst_itr = [5, 10, 25, 50, 100, 150] #Number of iterations \n",
    "lst_scr = [] #Score list\n",
    "lst_xtm = [] #Execution time list\n",
    "\n",
    "onto_path_two = 'pizza_1.owl'\n",
    "onto_path_two = 'pizza_2.owl'\n",
    "\n",
    "for nitr in lst_itr:\n",
    "    onto_align_ils, ils_scr, exec_time = align_ontologies(onto_path_one, onto_path_two, 'ILS', max_iter=nitr)\n",
    "    lst_scr.append(ils_scr)\n",
    "    lst_xtm.append(round(exec_time, 1))"
   ]
  },
  {
   "cell_type": "code",
   "execution_count": 58,
   "metadata": {},
   "outputs": [
    {
     "data": {
      "image/png": "[encoded data removed]",
      "text/plain": [
       "<Figure size 1000x600 with 2 Axes>"
      ]
     },
     "metadata": {},
     "output_type": "display_data"
    },
    {
     "name": "stdout",
     "output_type": "stream",
     "text": [
      "Agregration scores: [57.893, 57.932, 57.92, 58.355, 58.409, 57.93]\n",
      "Execution time: [11.2, 19.4, 44.6, 87.6, 170.7, 256.5] seg\n"
     ]
    }
   ],
   "source": [
    "plot_perfomance(lst_itr, lst_scr, lst_xtm)"
   ]
  },
  {
   "cell_type": "code",
   "execution_count": 59,
   "metadata": {},
   "outputs": [
    {
     "data": {
      "image/png": "[encoded data removed]",
      "text/plain": [
       "<Figure size 1000x600 with 2 Axes>"
      ]
     },
     "metadata": {},
     "output_type": "display_data"
    },
    {
     "name": "stdout",
     "output_type": "stream",
     "text": [
      "Agregration scores: [57.893, 57.932, 57.92, 58.355, 58.409, 57.93]\n",
      "Execution time: [11.2, 19.4, 44.6, 87.6, 170.7, 256.5] seg\n"
     ]
    }
   ],
   "source": [
    "plot_perfomance(lst_itr, lst_scr, lst_xtm)"
   ]
  },
  {
   "cell_type": "code",
   "execution_count": null,
   "metadata": {},
   "outputs": [],
   "source": []
  }
 ],
 "metadata": {
  "kernelspec": {
   "display_name": "Python 3",
   "language": "python",
   "name": "python3"
  },
  "language_info": {
   "codemirror_mode": {
    "name": "ipython",
    "version": 3
   },
   "file_extension": ".py",
   "mimetype": "text/x-python",
   "name": "python",
   "nbconvert_exporter": "python",
   "pygments_lexer": "ipython3",
   "version": "3.8.5"
  }
 },
 "nbformat": 4,
 "nbformat_minor": 4
}
